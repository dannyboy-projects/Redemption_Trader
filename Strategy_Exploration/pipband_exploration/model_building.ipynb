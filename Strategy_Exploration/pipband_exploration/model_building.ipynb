{
 "cells": [
  {
   "cell_type": "code",
   "execution_count": 58,
   "metadata": {},
   "outputs": [],
   "source": [
    "import pandas as pd\n",
    "import matplotlib.pyplot as plt\n",
    "from datetime import datetime\n",
    "import matplotlib.pyplot as plt\n",
    "\n",
    "df = pd.read_csv('tradelog_aux.csv', index_col = 0)"
   ]
  },
  {
   "cell_type": "code",
   "execution_count": 59,
   "metadata": {},
   "outputs": [],
   "source": [
    "dg = pd.read_csv('aux_data.csv',index_col=0)"
   ]
  },
  {
   "cell_type": "code",
   "execution_count": 60,
   "metadata": {},
   "outputs": [
    {
     "data": {
      "text/html": [
       "<div>\n",
       "<style scoped>\n",
       "    .dataframe tbody tr th:only-of-type {\n",
       "        vertical-align: middle;\n",
       "    }\n",
       "\n",
       "    .dataframe tbody tr th {\n",
       "        vertical-align: top;\n",
       "    }\n",
       "\n",
       "    .dataframe thead th {\n",
       "        text-align: right;\n",
       "    }\n",
       "</style>\n",
       "<table border=\"1\" class=\"dataframe\">\n",
       "  <thead>\n",
       "    <tr style=\"text-align: right;\">\n",
       "      <th></th>\n",
       "      <th>candle_size</th>\n",
       "      <th>05L3NY</th>\n",
       "      <th>8O7HJ6</th>\n",
       "      <th>3U8L24</th>\n",
       "      <th>F8NA3R</th>\n",
       "      <th>04QD9S</th>\n",
       "      <th>FETI2N</th>\n",
       "      <th>JPSD0D</th>\n",
       "      <th>RG4UQW</th>\n",
       "      <th>OBV3S6</th>\n",
       "      <th>...</th>\n",
       "      <th>MUT5HU</th>\n",
       "      <th>430UGO</th>\n",
       "      <th>BLMGMO</th>\n",
       "      <th>Z2KE1L</th>\n",
       "      <th>54851N</th>\n",
       "      <th>CMEAQ7</th>\n",
       "      <th>QUYDBK</th>\n",
       "      <th>HVNJFP</th>\n",
       "      <th>LQ6MFE</th>\n",
       "      <th>7WQZWF</th>\n",
       "    </tr>\n",
       "  </thead>\n",
       "  <tbody>\n",
       "    <tr>\n",
       "      <th>0</th>\n",
       "      <td>NaN</td>\n",
       "      <td>0.002</td>\n",
       "      <td>-0.029</td>\n",
       "      <td>0.099</td>\n",
       "      <td>-0.054</td>\n",
       "      <td>-0.015</td>\n",
       "      <td>0.017</td>\n",
       "      <td>0.008</td>\n",
       "      <td>-0.078</td>\n",
       "      <td>-0.022</td>\n",
       "      <td>...</td>\n",
       "      <td>0.054</td>\n",
       "      <td>0.022</td>\n",
       "      <td>0.008</td>\n",
       "      <td>0.059</td>\n",
       "      <td>0.055</td>\n",
       "      <td>-0.099</td>\n",
       "      <td>0.047</td>\n",
       "      <td>0.05</td>\n",
       "      <td>-0.058</td>\n",
       "      <td>-0.062</td>\n",
       "    </tr>\n",
       "  </tbody>\n",
       "</table>\n",
       "<p>1 rows × 370 columns</p>\n",
       "</div>"
      ],
      "text/plain": [
       "   candle_size  05L3NY  8O7HJ6  3U8L24  F8NA3R  04QD9S  FETI2N  JPSD0D  \\\n",
       "0          NaN   0.002  -0.029   0.099  -0.054  -0.015   0.017   0.008   \n",
       "\n",
       "   RG4UQW  OBV3S6  ...  MUT5HU  430UGO  BLMGMO  Z2KE1L  54851N  CMEAQ7  \\\n",
       "0  -0.078  -0.022  ...   0.054   0.022   0.008   0.059   0.055  -0.099   \n",
       "\n",
       "   QUYDBK  HVNJFP  LQ6MFE  7WQZWF  \n",
       "0   0.047    0.05  -0.058  -0.062  \n",
       "\n",
       "[1 rows x 370 columns]"
      ]
     },
     "execution_count": 60,
     "metadata": {},
     "output_type": "execute_result"
    }
   ],
   "source": [
    "dg"
   ]
  },
  {
   "cell_type": "code",
   "execution_count": 45,
   "metadata": {},
   "outputs": [],
   "source": [
    "#create W/L labels, explantory variables\n",
    "df['target'] = (df['PnL'] > 0).astype(int)\n",
    "df['open_time_fmt'] = pd.to_datetime(df['open_time']).dt.hour.astype(int) *12 + pd.to_datetime(df['open_time']).dt.minute.astype(int)\n",
    "# df['open_time_fmt'] = pd.to_datetime(df['open_time']).dt.strftime(\"%H:%M:%S\")"
   ]
  },
  {
   "cell_type": "code",
   "execution_count": 55,
   "metadata": {},
   "outputs": [],
   "source": [
    "# most basic decision tree\n",
    "from sklearn import tree\n",
    "from sklearn.model_selection import train_test_split\n",
    "\n",
    "\n",
    "data, x_test, target, y_test = train_test_split( df[['open_time_fmt','dir','open_price']],df['target'], test_size=0.20,random_state=42)\n",
    "\n",
    "clf = tree.DecisionTreeClassifier()\n",
    "clf = clf.fit(data, target)"
   ]
  },
  {
   "cell_type": "code",
   "execution_count": 49,
   "metadata": {},
   "outputs": [],
   "source": [
    "from sklearn.metrics import accuracy_score"
   ]
  },
  {
   "cell_type": "code",
   "execution_count": 57,
   "metadata": {},
   "outputs": [
    {
     "data": {
      "text/plain": [
       "0.6085271317829457"
      ]
     },
     "execution_count": 57,
     "metadata": {},
     "output_type": "execute_result"
    }
   ],
   "source": [
    "y_predict = clf.predict(x_test)\n",
    "accuracy_score(y_predict,y_test)"
   ]
  }
 ],
 "metadata": {
  "kernelspec": {
   "display_name": "venv",
   "language": "python",
   "name": "python3"
  },
  "language_info": {
   "codemirror_mode": {
    "name": "ipython",
    "version": 3
   },
   "file_extension": ".py",
   "mimetype": "text/x-python",
   "name": "python",
   "nbconvert_exporter": "python",
   "pygments_lexer": "ipython3",
   "version": "3.12.3"
  }
 },
 "nbformat": 4,
 "nbformat_minor": 2
}
