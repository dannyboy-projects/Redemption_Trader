{
 "cells": [
  {
   "cell_type": "code",
   "execution_count": 1,
   "metadata": {},
   "outputs": [],
   "source": [
    "import pandas as pd\n",
    "import matplotlib.pyplot as plt\n",
    "df = pd.read_csv('./data/tradelog_IS.csv', index_col = 0)"
   ]
  },
  {
   "cell_type": "code",
   "execution_count": 2,
   "metadata": {},
   "outputs": [],
   "source": [
    "df['open_time_fmt'] = pd.to_datetime(df['open_time']).dt.time"
   ]
  },
  {
   "cell_type": "code",
   "execution_count": 3,
   "metadata": {},
   "outputs": [
    {
     "data": {
      "text/plain": [
       "(array([235., 160., 141., 142., 113., 156., 150., 177., 206., 148., 111.,\n",
       "        186., 223., 276., 304., 203., 162., 135., 154.,  78.,  66.,  90.,\n",
       "        110., 141.]),\n",
       " array([ 0.        ,  0.95833333,  1.91666667,  2.875     ,  3.83333333,\n",
       "         4.79166667,  5.75      ,  6.70833333,  7.66666667,  8.625     ,\n",
       "         9.58333333, 10.54166667, 11.5       , 12.45833333, 13.41666667,\n",
       "        14.375     , 15.33333333, 16.29166667, 17.25      , 18.20833333,\n",
       "        19.16666667, 20.125     , 21.08333333, 22.04166667, 23.        ]),\n",
       " <BarContainer object of 24 artists>)"
      ]
     },
     "execution_count": 3,
     "metadata": {},
     "output_type": "execute_result"
    },
    {
     "data": {
      "image/png": "[encoded data removed]",
      "text/plain": [
       "<Figure size 640x480 with 1 Axes>"
      ]
     },
     "metadata": {},
     "output_type": "display_data"
    }
   ],
   "source": [
    "plt.hist(pd.to_datetime(df['open_time']).dt.hour, bins = 24)"
   ]
  },
  {
   "cell_type": "code",
   "execution_count": 4,
   "metadata": {},
   "outputs": [
    {
     "data": {
      "text/plain": [
       "0    7.583333\n",
       "Name: time_in_trade, dtype: float64"
      ]
     },
     "execution_count": 4,
     "metadata": {},
     "output_type": "execute_result"
    }
   ],
   "source": [
    "df['time_in_trade'] = (pd.to_datetime(df['close_time']) - pd.to_datetime(df['open_time']))/pd.Timedelta(hours = 1)\n",
    "df['time_in_trade'].mode()\n",
    "# plt.hist(pd.to_datetime(df['open_time']).dt.hour, bins = 24)"
   ]
  },
  {
   "cell_type": "code",
   "execution_count": 14,
   "metadata": {},
   "outputs": [
    {
     "data": {
      "text/plain": [
       "(array([422., 469., 352., 348., 384., 202., 124., 118., 121.,  75., 112.,\n",
       "         97.,  74.,  85.,  69.,  41.,  61.,  92.,  60.,  69.,  68.,  45.,\n",
       "         21.,  19.,  22.,  22.,  20.,  26.,  16.,  23.,  15.,   7.,   6.,\n",
       "          3.,   8.,  10.,   8.,   8.,   1.,   5.,   1.,   0.,   0.,   5.,\n",
       "          5.,   2.,   0.,   0.,   1.,   0.,   0.,   0.,   0.,   0.,   0.,\n",
       "          0.,   0.,   0.,   0.,   0.,   0.,   2.,   4.,   0.,   9.,   8.,\n",
       "          7.,  11.,   5.,   6.,   8.,   5.,   0.,   7.,  19.,   3.,   0.,\n",
       "          0.,   0.,   0.,   0.,   0.,   0.,   0.,   0.,   0.,   0.,   0.,\n",
       "          0.,   5.,  11.,   9.,   4.,   0.,   0.,   1.,   0.,   0.,   0.,\n",
       "          1.]),\n",
       " array([8.33333333e-02, 5.46916667e+00, 1.08550000e+01, 1.62408333e+01,\n",
       "        2.16266667e+01, 2.70125000e+01, 3.23983333e+01, 3.77841667e+01,\n",
       "        4.31700000e+01, 4.85558333e+01, 5.39416667e+01, 5.93275000e+01,\n",
       "        6.47133333e+01, 7.00991667e+01, 7.54850000e+01, 8.08708333e+01,\n",
       "        8.62566667e+01, 9.16425000e+01, 9.70283333e+01, 1.02414167e+02,\n",
       "        1.07800000e+02, 1.13185833e+02, 1.18571667e+02, 1.23957500e+02,\n",
       "        1.29343333e+02, 1.34729167e+02, 1.40115000e+02, 1.45500833e+02,\n",
       "        1.50886667e+02, 1.56272500e+02, 1.61658333e+02, 1.67044167e+02,\n",
       "        1.72430000e+02, 1.77815833e+02, 1.83201667e+02, 1.88587500e+02,\n",
       "        1.93973333e+02, 1.99359167e+02, 2.04745000e+02, 2.10130833e+02,\n",
       "        2.15516667e+02, 2.20902500e+02, 2.26288333e+02, 2.31674167e+02,\n",
       "        2.37060000e+02, 2.42445833e+02, 2.47831667e+02, 2.53217500e+02,\n",
       "        2.58603333e+02, 2.63989167e+02, 2.69375000e+02, 2.74760833e+02,\n",
       "        2.80146667e+02, 2.85532500e+02, 2.90918333e+02, 2.96304167e+02,\n",
       "        3.01690000e+02, 3.07075833e+02, 3.12461667e+02, 3.17847500e+02,\n",
       "        3.23233333e+02, 3.28619167e+02, 3.34005000e+02, 3.39390833e+02,\n",
       "        3.44776667e+02, 3.50162500e+02, 3.55548333e+02, 3.60934167e+02,\n",
       "        3.66320000e+02, 3.71705833e+02, 3.77091667e+02, 3.82477500e+02,\n",
       "        3.87863333e+02, 3.93249167e+02, 3.98635000e+02, 4.04020833e+02,\n",
       "        4.09406667e+02, 4.14792500e+02, 4.20178333e+02, 4.25564167e+02,\n",
       "        4.30950000e+02, 4.36335833e+02, 4.41721667e+02, 4.47107500e+02,\n",
       "        4.52493333e+02, 4.57879167e+02, 4.63265000e+02, 4.68650833e+02,\n",
       "        4.74036667e+02, 4.79422500e+02, 4.84808333e+02, 4.90194167e+02,\n",
       "        4.95580000e+02, 5.00965833e+02, 5.06351667e+02, 5.11737500e+02,\n",
       "        5.17123333e+02, 5.22509167e+02, 5.27895000e+02, 5.33280833e+02,\n",
       "        5.38666667e+02]),\n",
       " <BarContainer object of 100 artists>)"
      ]
     },
     "execution_count": 14,
     "metadata": {},
     "output_type": "execute_result"
    },
    {
     "data": {
      "image/png": "[encoded data removed]",
      "text/plain": [
       "<Figure size 640x480 with 1 Axes>"
      ]
     },
     "metadata": {},
     "output_type": "display_data"
    }
   ],
   "source": [
    "plt.hist(df['time_in_trade'], bins = 100)"
   ]
  },
  {
   "cell_type": "code",
   "execution_count": 6,
   "metadata": {},
   "outputs": [],
   "source": [
    "hourly_summary = pd.DataFrame(index = [i for i in range(24)],columns = ['win_rate', 'PnL', 'no_trades'])\n",
    "\n"
   ]
  },
  {
   "cell_type": "code",
   "execution_count": 7,
   "metadata": {},
   "outputs": [],
   "source": [
    "for h in hourly_summary.index:\n",
    "    # print(h)\n",
    "    dg = df[pd.to_datetime(df['open_time']).dt.hour == h]\n",
    "    no_trades = len(dg)\n",
    "    wins = len(dg[dg['PnL']>0])\n",
    "    PnL = dg['PnL'].sum()\n",
    "    dg\n",
    "\n",
    "    if no_trades == 0:\n",
    "        hourly_summary.loc[h,'win_rate'] = 0\n",
    "    else:\n",
    "        hourly_summary.loc[h,'win_rate'] = wins/no_trades\n",
    "    \n",
    "    hourly_summary.loc[h,'PnL']     = PnL\n",
    "    hourly_summary.loc[h,'no_trades'] = no_trades\n"
   ]
  },
  {
   "cell_type": "code",
   "execution_count": 8,
   "metadata": {},
   "outputs": [
    {
     "data": {
      "text/html": [
       "<div>\n",
       "<style scoped>\n",
       "    .dataframe tbody tr th:only-of-type {\n",
       "        vertical-align: middle;\n",
       "    }\n",
       "\n",
       "    .dataframe tbody tr th {\n",
       "        vertical-align: top;\n",
       "    }\n",
       "\n",
       "    .dataframe thead th {\n",
       "        text-align: right;\n",
       "    }\n",
       "</style>\n",
       "<table border=\"1\" class=\"dataframe\">\n",
       "  <thead>\n",
       "    <tr style=\"text-align: right;\">\n",
       "      <th></th>\n",
       "      <th>win_rate</th>\n",
       "      <th>PnL</th>\n",
       "      <th>no_trades</th>\n",
       "    </tr>\n",
       "  </thead>\n",
       "  <tbody>\n",
       "    <tr>\n",
       "      <th>0</th>\n",
       "      <td>0.53617</td>\n",
       "      <td>5.540299</td>\n",
       "      <td>235</td>\n",
       "    </tr>\n",
       "    <tr>\n",
       "      <th>1</th>\n",
       "      <td>0.525</td>\n",
       "      <td>-0.389256</td>\n",
       "      <td>160</td>\n",
       "    </tr>\n",
       "    <tr>\n",
       "      <th>2</th>\n",
       "      <td>0.496454</td>\n",
       "      <td>-9.257246</td>\n",
       "      <td>141</td>\n",
       "    </tr>\n",
       "    <tr>\n",
       "      <th>3</th>\n",
       "      <td>0.56338</td>\n",
       "      <td>12.172068</td>\n",
       "      <td>142</td>\n",
       "    </tr>\n",
       "    <tr>\n",
       "      <th>4</th>\n",
       "      <td>0.539823</td>\n",
       "      <td>3.978528</td>\n",
       "      <td>113</td>\n",
       "    </tr>\n",
       "    <tr>\n",
       "      <th>5</th>\n",
       "      <td>0.5</td>\n",
       "      <td>-5.912924</td>\n",
       "      <td>156</td>\n",
       "    </tr>\n",
       "    <tr>\n",
       "      <th>6</th>\n",
       "      <td>0.513333</td>\n",
       "      <td>-2.14941</td>\n",
       "      <td>150</td>\n",
       "    </tr>\n",
       "    <tr>\n",
       "      <th>7</th>\n",
       "      <td>0.514124</td>\n",
       "      <td>-4.598084</td>\n",
       "      <td>177</td>\n",
       "    </tr>\n",
       "    <tr>\n",
       "      <th>8</th>\n",
       "      <td>0.524272</td>\n",
       "      <td>-2.327085</td>\n",
       "      <td>206</td>\n",
       "    </tr>\n",
       "    <tr>\n",
       "      <th>9</th>\n",
       "      <td>0.527027</td>\n",
       "      <td>0.652276</td>\n",
       "      <td>148</td>\n",
       "    </tr>\n",
       "    <tr>\n",
       "      <th>10</th>\n",
       "      <td>0.540541</td>\n",
       "      <td>4.035321</td>\n",
       "      <td>111</td>\n",
       "    </tr>\n",
       "    <tr>\n",
       "      <th>11</th>\n",
       "      <td>0.516129</td>\n",
       "      <td>-1.561996</td>\n",
       "      <td>186</td>\n",
       "    </tr>\n",
       "    <tr>\n",
       "      <th>12</th>\n",
       "      <td>0.488789</td>\n",
       "      <td>-20.128367</td>\n",
       "      <td>223</td>\n",
       "    </tr>\n",
       "    <tr>\n",
       "      <th>13</th>\n",
       "      <td>0.576087</td>\n",
       "      <td>20.082009</td>\n",
       "      <td>276</td>\n",
       "    </tr>\n",
       "    <tr>\n",
       "      <th>14</th>\n",
       "      <td>0.523026</td>\n",
       "      <td>-7.030411</td>\n",
       "      <td>304</td>\n",
       "    </tr>\n",
       "    <tr>\n",
       "      <th>15</th>\n",
       "      <td>0.571429</td>\n",
       "      <td>15.811407</td>\n",
       "      <td>203</td>\n",
       "    </tr>\n",
       "    <tr>\n",
       "      <th>16</th>\n",
       "      <td>0.506173</td>\n",
       "      <td>-6.161527</td>\n",
       "      <td>162</td>\n",
       "    </tr>\n",
       "    <tr>\n",
       "      <th>17</th>\n",
       "      <td>0.533333</td>\n",
       "      <td>3.341222</td>\n",
       "      <td>135</td>\n",
       "    </tr>\n",
       "    <tr>\n",
       "      <th>18</th>\n",
       "      <td>0.5</td>\n",
       "      <td>-8.404508</td>\n",
       "      <td>154</td>\n",
       "    </tr>\n",
       "    <tr>\n",
       "      <th>19</th>\n",
       "      <td>0.628205</td>\n",
       "      <td>15.086416</td>\n",
       "      <td>78</td>\n",
       "    </tr>\n",
       "    <tr>\n",
       "      <th>20</th>\n",
       "      <td>0.484848</td>\n",
       "      <td>-4.122399</td>\n",
       "      <td>66</td>\n",
       "    </tr>\n",
       "    <tr>\n",
       "      <th>21</th>\n",
       "      <td>0.588889</td>\n",
       "      <td>12.473839</td>\n",
       "      <td>90</td>\n",
       "    </tr>\n",
       "    <tr>\n",
       "      <th>22</th>\n",
       "      <td>0.481818</td>\n",
       "      <td>-7.961151</td>\n",
       "      <td>110</td>\n",
       "    </tr>\n",
       "    <tr>\n",
       "      <th>23</th>\n",
       "      <td>0.503546</td>\n",
       "      <td>-5.299851</td>\n",
       "      <td>141</td>\n",
       "    </tr>\n",
       "  </tbody>\n",
       "</table>\n",
       "</div>"
      ],
      "text/plain": [
       "    win_rate        PnL no_trades\n",
       "0    0.53617   5.540299       235\n",
       "1      0.525  -0.389256       160\n",
       "2   0.496454  -9.257246       141\n",
       "3    0.56338  12.172068       142\n",
       "4   0.539823   3.978528       113\n",
       "5        0.5  -5.912924       156\n",
       "6   0.513333   -2.14941       150\n",
       "7   0.514124  -4.598084       177\n",
       "8   0.524272  -2.327085       206\n",
       "9   0.527027   0.652276       148\n",
       "10  0.540541   4.035321       111\n",
       "11  0.516129  -1.561996       186\n",
       "12  0.488789 -20.128367       223\n",
       "13  0.576087  20.082009       276\n",
       "14  0.523026  -7.030411       304\n",
       "15  0.571429  15.811407       203\n",
       "16  0.506173  -6.161527       162\n",
       "17  0.533333   3.341222       135\n",
       "18       0.5  -8.404508       154\n",
       "19  0.628205  15.086416        78\n",
       "20  0.484848  -4.122399        66\n",
       "21  0.588889  12.473839        90\n",
       "22  0.481818  -7.961151       110\n",
       "23  0.503546  -5.299851       141"
      ]
     },
     "execution_count": 8,
     "metadata": {},
     "output_type": "execute_result"
    }
   ],
   "source": [
    "hourly_summary\n"
   ]
  },
  {
   "cell_type": "code",
   "execution_count": 16,
   "metadata": {},
   "outputs": [
    {
     "data": {
      "text/plain": [
       "<BarContainer object of 24 artists>"
      ]
     },
     "execution_count": 16,
     "metadata": {},
     "output_type": "execute_result"
    },
    {
     "data": {
      "image/png": "[encoded data removed]",
      "text/plain": [
       "<Figure size 640x480 with 1 Axes>"
      ]
     },
     "metadata": {},
     "output_type": "display_data"
    }
   ],
   "source": [
    "plt.bar(hourly_summary.index,hourly_summary['PnL'])"
   ]
  },
  {
   "cell_type": "code",
   "execution_count": 9,
   "metadata": {},
   "outputs": [
    {
     "data": {
      "text/plain": [
       "538"
      ]
     },
     "execution_count": 9,
     "metadata": {},
     "output_type": "execute_result"
    }
   ],
   "source": [
    "int(df['time_in_trade'].max())"
   ]
  },
  {
   "cell_type": "code",
   "execution_count": 18,
   "metadata": {},
   "outputs": [],
   "source": [
    "\n",
    "time_in_trade_summary = pd.DataFrame(index = [i for i in range(int(df['time_in_trade'].max())) ], columns = ['win_rate','PnL','no_trades','prob','EV(t)'])\n",
    "\n",
    "for h in time_in_trade_summary.index:\n",
    "    # print(h)\n",
    "    dg = df[df['time_in_trade'].astype(int) == h]\n",
    "    # print(dg)\n",
    "\n",
    "    no_trades = len(dg)\n",
    "    wins = len(dg[dg['PnL']>0])\n",
    "    PnL = dg['PnL'].sum()\n",
    "\n",
    "    if no_trades == 0:\n",
    "        time_in_trade_summary.loc[h,'win_rate'] = 0\n",
    "    else:\n",
    "        time_in_trade_summary.loc[h,'win_rate'] = wins/no_trades\n",
    "    \n",
    "    time_in_trade_summary.loc[h,'PnL']     = PnL\n",
    "    time_in_trade_summary.loc[h,'no_trades'] = no_trades\n",
    "    time_in_trade_summary.loc[h,'prob'] = no_trades/time_in_trade_summary['no_trades'].sum()\n",
    "\n",
    "\n",
    "\n",
    "for h in time_in_trade_summary.index:\n",
    "    dg = time_in_trade_summary[time_in_trade_summary.index >= h]\n",
    "    time_in_trade_summary.loc[h,'EV(t)'] = (dg['prob']*dg['PnL']).sum()\n",
    "\n"
   ]
  },
  {
   "cell_type": "code",
   "execution_count": 19,
   "metadata": {},
   "outputs": [
    {
     "data": {
      "text/html": [
       "<div>\n",
       "<style scoped>\n",
       "    .dataframe tbody tr th:only-of-type {\n",
       "        vertical-align: middle;\n",
       "    }\n",
       "\n",
       "    .dataframe tbody tr th {\n",
       "        vertical-align: top;\n",
       "    }\n",
       "\n",
       "    .dataframe thead th {\n",
       "        text-align: right;\n",
       "    }\n",
       "</style>\n",
       "<table border=\"1\" class=\"dataframe\">\n",
       "  <thead>\n",
       "    <tr style=\"text-align: right;\">\n",
       "      <th></th>\n",
       "      <th>win_rate</th>\n",
       "      <th>PnL</th>\n",
       "      <th>no_trades</th>\n",
       "      <th>prob</th>\n",
       "      <th>EV(t)</th>\n",
       "    </tr>\n",
       "  </thead>\n",
       "  <tbody>\n",
       "    <tr>\n",
       "      <th>0</th>\n",
       "      <td>0.717391</td>\n",
       "      <td>17.085611</td>\n",
       "      <td>92</td>\n",
       "      <td>1.0</td>\n",
       "      <td>22.034723</td>\n",
       "    </tr>\n",
       "    <tr>\n",
       "      <th>1</th>\n",
       "      <td>0.597222</td>\n",
       "      <td>6.910233</td>\n",
       "      <td>72</td>\n",
       "      <td>0.439024</td>\n",
       "      <td>4.949111</td>\n",
       "    </tr>\n",
       "    <tr>\n",
       "      <th>2</th>\n",
       "      <td>0.549296</td>\n",
       "      <td>0.534071</td>\n",
       "      <td>71</td>\n",
       "      <td>0.302128</td>\n",
       "      <td>1.915351</td>\n",
       "    </tr>\n",
       "    <tr>\n",
       "      <th>3</th>\n",
       "      <td>0.529412</td>\n",
       "      <td>-0.024657</td>\n",
       "      <td>68</td>\n",
       "      <td>0.224422</td>\n",
       "      <td>1.753993</td>\n",
       "    </tr>\n",
       "    <tr>\n",
       "      <th>4</th>\n",
       "      <td>0.547619</td>\n",
       "      <td>1.551205</td>\n",
       "      <td>84</td>\n",
       "      <td>0.217054</td>\n",
       "      <td>1.759526</td>\n",
       "    </tr>\n",
       "    <tr>\n",
       "      <th>5</th>\n",
       "      <td>0.592593</td>\n",
       "      <td>10.541158</td>\n",
       "      <td>81</td>\n",
       "      <td>0.173077</td>\n",
       "      <td>1.422831</td>\n",
       "    </tr>\n",
       "    <tr>\n",
       "      <th>6</th>\n",
       "      <td>0.54023</td>\n",
       "      <td>1.40332</td>\n",
       "      <td>87</td>\n",
       "      <td>0.156757</td>\n",
       "      <td>-0.4016</td>\n",
       "    </tr>\n",
       "    <tr>\n",
       "      <th>7</th>\n",
       "      <td>0.53211</td>\n",
       "      <td>1.30503</td>\n",
       "      <td>109</td>\n",
       "      <td>0.164157</td>\n",
       "      <td>-0.62158</td>\n",
       "    </tr>\n",
       "    <tr>\n",
       "      <th>8</th>\n",
       "      <td>0.473118</td>\n",
       "      <td>-9.557609</td>\n",
       "      <td>93</td>\n",
       "      <td>0.122853</td>\n",
       "      <td>-0.83581</td>\n",
       "    </tr>\n",
       "    <tr>\n",
       "      <th>9</th>\n",
       "      <td>0.549296</td>\n",
       "      <td>3.524544</td>\n",
       "      <td>71</td>\n",
       "      <td>0.085749</td>\n",
       "      <td>0.338375</td>\n",
       "    </tr>\n",
       "    <tr>\n",
       "      <th>10</th>\n",
       "      <td>0.507246</td>\n",
       "      <td>-1.583951</td>\n",
       "      <td>69</td>\n",
       "      <td>0.076923</td>\n",
       "      <td>0.036149</td>\n",
       "    </tr>\n",
       "    <tr>\n",
       "      <th>11</th>\n",
       "      <td>0.590164</td>\n",
       "      <td>7.339393</td>\n",
       "      <td>61</td>\n",
       "      <td>0.063674</td>\n",
       "      <td>0.157992</td>\n",
       "    </tr>\n",
       "    <tr>\n",
       "      <th>12</th>\n",
       "      <td>0.451613</td>\n",
       "      <td>-10.177279</td>\n",
       "      <td>62</td>\n",
       "      <td>0.060784</td>\n",
       "      <td>-0.309339</td>\n",
       "    </tr>\n",
       "    <tr>\n",
       "      <th>13</th>\n",
       "      <td>0.547945</td>\n",
       "      <td>3.960718</td>\n",
       "      <td>73</td>\n",
       "      <td>0.066789</td>\n",
       "      <td>0.30928</td>\n",
       "    </tr>\n",
       "    <tr>\n",
       "      <th>14</th>\n",
       "      <td>0.5375</td>\n",
       "      <td>2.387414</td>\n",
       "      <td>80</td>\n",
       "      <td>0.068201</td>\n",
       "      <td>0.044749</td>\n",
       "    </tr>\n",
       "    <tr>\n",
       "      <th>15</th>\n",
       "      <td>0.516667</td>\n",
       "      <td>-0.643155</td>\n",
       "      <td>60</td>\n",
       "      <td>0.048662</td>\n",
       "      <td>-0.118076</td>\n",
       "    </tr>\n",
       "    <tr>\n",
       "      <th>16</th>\n",
       "      <td>0.613636</td>\n",
       "      <td>8.2481</td>\n",
       "      <td>44</td>\n",
       "      <td>0.034456</td>\n",
       "      <td>-0.086779</td>\n",
       "    </tr>\n",
       "    <tr>\n",
       "      <th>17</th>\n",
       "      <td>0.509434</td>\n",
       "      <td>-1.182258</td>\n",
       "      <td>53</td>\n",
       "      <td>0.03985</td>\n",
       "      <td>-0.370973</td>\n",
       "    </tr>\n",
       "    <tr>\n",
       "      <th>18</th>\n",
       "      <td>0.573529</td>\n",
       "      <td>7.649727</td>\n",
       "      <td>68</td>\n",
       "      <td>0.048641</td>\n",
       "      <td>-0.323861</td>\n",
       "    </tr>\n",
       "    <tr>\n",
       "      <th>19</th>\n",
       "      <td>0.506849</td>\n",
       "      <td>-2.675767</td>\n",
       "      <td>73</td>\n",
       "      <td>0.049626</td>\n",
       "      <td>-0.69595</td>\n",
       "    </tr>\n",
       "  </tbody>\n",
       "</table>\n",
       "</div>"
      ],
      "text/plain": [
       "    win_rate        PnL no_trades      prob      EV(t)\n",
       "0   0.717391  17.085611        92       1.0  22.034723\n",
       "1   0.597222   6.910233        72  0.439024   4.949111\n",
       "2   0.549296   0.534071        71  0.302128   1.915351\n",
       "3   0.529412  -0.024657        68  0.224422   1.753993\n",
       "4   0.547619   1.551205        84  0.217054   1.759526\n",
       "5   0.592593  10.541158        81  0.173077   1.422831\n",
       "6    0.54023    1.40332        87  0.156757    -0.4016\n",
       "7    0.53211    1.30503       109  0.164157   -0.62158\n",
       "8   0.473118  -9.557609        93  0.122853   -0.83581\n",
       "9   0.549296   3.524544        71  0.085749   0.338375\n",
       "10  0.507246  -1.583951        69  0.076923   0.036149\n",
       "11  0.590164   7.339393        61  0.063674   0.157992\n",
       "12  0.451613 -10.177279        62  0.060784  -0.309339\n",
       "13  0.547945   3.960718        73  0.066789    0.30928\n",
       "14    0.5375   2.387414        80  0.068201   0.044749\n",
       "15  0.516667  -0.643155        60  0.048662  -0.118076\n",
       "16  0.613636     8.2481        44  0.034456  -0.086779\n",
       "17  0.509434  -1.182258        53   0.03985  -0.370973\n",
       "18  0.573529   7.649727        68  0.048641  -0.323861\n",
       "19  0.506849  -2.675767        73  0.049626   -0.69595"
      ]
     },
     "execution_count": 19,
     "metadata": {},
     "output_type": "execute_result"
    }
   ],
   "source": [
    "t = time_in_trade_summary[time_in_trade_summary['no_trades']!= 0]\n",
    "time_in_trade_summary.head(20)"
   ]
  },
  {
   "cell_type": "code",
   "execution_count": 12,
   "metadata": {},
   "outputs": [
    {
     "data": {
      "image/png": "[encoded data removed]",
      "text/plain": [
       "<Figure size 640x480 with 2 Axes>"
      ]
     },
     "metadata": {},
     "output_type": "display_data"
    }
   ],
   "source": [
    "fig = plt.scatter(t.index,t['PnL'],c = t['no_trades'])\n",
    "colorbar = plt.colorbar(fig)\n",
    "colorbar.set_label('Color Scale')"
   ]
  },
  {
   "cell_type": "code",
   "execution_count": 21,
   "metadata": {},
   "outputs": [
    {
     "data": {
      "text/plain": [
       "<BarContainer object of 100 artists>"
      ]
     },
     "execution_count": 21,
     "metadata": {},
     "output_type": "execute_result"
    },
    {
     "data": {
      "image/png": "[encoded data removed]",
      "text/plain": [
       "<Figure size 640x480 with 1 Axes>"
      ]
     },
     "metadata": {},
     "output_type": "display_data"
    }
   ],
   "source": [
    "plt.bar(time_in_trade_summary.head(100).index,time_in_trade_summary['EV(t)'].head(100))"
   ]
  }
 ],
 "metadata": {
  "kernelspec": {
   "display_name": "venv",
   "language": "python",
   "name": "python3"
  },
  "language_info": {
   "codemirror_mode": {
    "name": "ipython",
    "version": 3
   },
   "file_extension": ".py",
   "mimetype": "text/x-python",
   "name": "python",
   "nbconvert_exporter": "python",
   "pygments_lexer": "ipython3",
   "version": "3.12.3"
  }
 },
 "nbformat": 4,
 "nbformat_minor": 2
}
