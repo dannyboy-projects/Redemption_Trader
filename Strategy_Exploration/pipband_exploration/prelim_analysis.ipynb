{
 "cells": [
  {
   "cell_type": "code",
   "execution_count": 421,
   "metadata": {},
   "outputs": [],
   "source": [
    "import pandas as pd\n",
    "import matplotlib.pyplot as plt\n",
    "import numpy as np\n",
    "df = pd.read_csv('../../tradelog_IS_oneopen_valid_hours_timestop40hr.csv', index_col = 0)"
   ]
  },
  {
   "cell_type": "code",
   "execution_count": 422,
   "metadata": {},
   "outputs": [],
   "source": [
    "df['open_time_fmt'] = pd.to_datetime(df['open_time']).dt.time"
   ]
  },
  {
   "cell_type": "code",
   "execution_count": 423,
   "metadata": {},
   "outputs": [],
   "source": [
    "df = df[df['open_time'] < '2023-05-31']"
   ]
  },
  {
   "cell_type": "code",
   "execution_count": 424,
   "metadata": {},
   "outputs": [
    {
     "data": {
      "text/plain": [
       "Text(0, 0.5, 'No. of Trades')"
      ]
     },
     "execution_count": 424,
     "metadata": {},
     "output_type": "execute_result"
    },
    {
     "data": {
      "image/png": "[encoded data removed]",
      "text/plain": [
       "<Figure size 640x480 with 1 Axes>"
      ]
     },
     "metadata": {},
     "output_type": "display_data"
    }
   ],
   "source": [
    "data = pd.to_datetime(df['open_time']).dt.hour\n",
    "bin_width = 1\n",
    "bins = np.arange(min(data), max(data) + bin_width, bin_width)\n",
    "plt.hist(pd.to_datetime(df['open_time']).dt.hour, bins = bins, color='steelblue', edgecolor = 'black')\n",
    "\n",
    "\n",
    "plt.xlabel('Hour (UTC)')\n",
    "plt.ylabel('No. of Trades')\n",
    "# plt.text(18,290,'USDJPY (IS)\\nAll Entry Signals')\n",
    "# plt.text(1.15,180,'Tokyo Open', rotation = 90)\n",
    "# plt.text(5.5,180,'Sydney Close', rotation = 90)\n",
    "# plt.text(7.5,220,'London Open', rotation = 90)\n",
    "# plt.text(13.25,220,'NYC Open', rotation = 90)\n",
    "# plt.text(20.5,100,'NYC Close', rotation = 90)\n",
    "# plt.text(20.75,190,'Sydney Open', rotation = 90)"
   ]
  },
  {
   "cell_type": "code",
   "execution_count": 425,
   "metadata": {},
   "outputs": [
    {
     "name": "stdout",
     "output_type": "stream",
     "text": [
      "mode:  0    24.0\n",
      "Name: time_in_trade, dtype: float64\n",
      "mean:  14.02317880794702\n",
      "median:  13.75\n"
     ]
    }
   ],
   "source": [
    "df['time_in_trade'] = (pd.to_datetime(df['close_time']) - pd.to_datetime(df['open_time']))/pd.Timedelta(hours = 1)\n",
    "print('mode: ',df['time_in_trade'].mode())\n",
    "print('mean: ',df['time_in_trade'].mean())\n",
    "print('median: ',df['time_in_trade'].median())\n",
    "# plt.hist(pd.to_datetime(df['open_time']).dt.hour, bins = 24)"
   ]
  },
  {
   "cell_type": "code",
   "execution_count": 426,
   "metadata": {},
   "outputs": [
    {
     "data": {
      "text/plain": [
       "(array([ 7.,  5.,  4.,  3.,  4.,  1.,  0.,  0.,  1.,  3.,  3.,  3.,  6.,\n",
       "         1.,  6.,  3.,  8.,  3.,  1.,  1.,  0.,  2.,  2.,  3.,  1.,  1.,\n",
       "         1.,  2.,  1.,  2.,  1.,  2.,  0.,  0.,  4.,  1.,  1.,  2.,  3.,\n",
       "         1.,  0.,  0.,  0.,  1.,  3.,  0.,  2.,  2.,  3.,  3., 43.,  0.,\n",
       "         0.,  0.,  0.,  0.,  0.,  0.,  0.,  0.,  0.,  0.,  0.,  0.,  0.,\n",
       "         0.,  0.,  0.,  0.,  0.,  0.,  0.,  0.,  0.,  0.,  0.,  0.,  0.,\n",
       "         0.,  0.,  0.,  0.,  0.,  0.,  0.,  0.,  0.,  0.,  0.,  0.,  0.,\n",
       "         0.,  0.,  0.,  0.,  0.,  0.,  0.,  0.,  1.]),\n",
       " array([ 0.        ,  0.47833333,  0.95666667,  1.435     ,  1.91333333,\n",
       "         2.39166667,  2.87      ,  3.34833333,  3.82666667,  4.305     ,\n",
       "         4.78333333,  5.26166667,  5.74      ,  6.21833333,  6.69666667,\n",
       "         7.175     ,  7.65333333,  8.13166667,  8.61      ,  9.08833333,\n",
       "         9.56666667, 10.045     , 10.52333333, 11.00166667, 11.48      ,\n",
       "        11.95833333, 12.43666667, 12.915     , 13.39333333, 13.87166667,\n",
       "        14.35      , 14.82833333, 15.30666667, 15.785     , 16.26333333,\n",
       "        16.74166667, 17.22      , 17.69833333, 18.17666667, 18.655     ,\n",
       "        19.13333333, 19.61166667, 20.09      , 20.56833333, 21.04666667,\n",
       "        21.525     , 22.00333333, 22.48166667, 22.96      , 23.43833333,\n",
       "        23.91666667, 24.395     , 24.87333333, 25.35166667, 25.83      ,\n",
       "        26.30833333, 26.78666667, 27.265     , 27.74333333, 28.22166667,\n",
       "        28.7       , 29.17833333, 29.65666667, 30.135     , 30.61333333,\n",
       "        31.09166667, 31.57      , 32.04833333, 32.52666667, 33.005     ,\n",
       "        33.48333333, 33.96166667, 34.44      , 34.91833333, 35.39666667,\n",
       "        35.875     , 36.35333333, 36.83166667, 37.31      , 37.78833333,\n",
       "        38.26666667, 38.745     , 39.22333333, 39.70166667, 40.18      ,\n",
       "        40.65833333, 41.13666667, 41.615     , 42.09333333, 42.57166667,\n",
       "        43.05      , 43.52833333, 44.00666667, 44.485     , 44.96333333,\n",
       "        45.44166667, 45.92      , 46.39833333, 46.87666667, 47.355     ,\n",
       "        47.83333333]),\n",
       " <BarContainer object of 100 artists>)"
      ]
     },
     "execution_count": 426,
     "metadata": {},
     "output_type": "execute_result"
    },
    {
     "data": {
      "image/png": "[encoded data removed]",
      "text/plain": [
       "<Figure size 640x480 with 1 Axes>"
      ]
     },
     "metadata": {},
     "output_type": "display_data"
    }
   ],
   "source": [
    "plt.hist(df['time_in_trade'], bins = 100)"
   ]
  },
  {
   "cell_type": "code",
   "execution_count": 427,
   "metadata": {},
   "outputs": [],
   "source": [
    "hourly_summary = pd.DataFrame(index = [i for i in range(24)],columns = ['win_rate', 'PnL', 'no_trades','ATT_wins', 'ATT_losses'])\n",
    "\n"
   ]
  },
  {
   "cell_type": "code",
   "execution_count": 428,
   "metadata": {},
   "outputs": [],
   "source": [
    "for h in hourly_summary.index:\n",
    "    # print(h)\n",
    "    dg = df[pd.to_datetime(df['open_time']).dt.hour == h]\n",
    "    no_trades = len(dg)\n",
    "    wins = len(dg[dg['PnL']>0])\n",
    "    \n",
    "    de = dg[dg['PnL']>0]\n",
    "    db = dg[dg['PnL']<0]\n",
    "    \n",
    "    PnL = dg['PnL'].sum()\n",
    "    dg\n",
    "\n",
    "    if no_trades == 0:\n",
    "        hourly_summary.loc[h,'win_rate'] = 0\n",
    "    else:\n",
    "        hourly_summary.loc[h,'win_rate'] = wins/no_trades\n",
    "    \n",
    "    hourly_summary.loc[h,'PnL']     = PnL\n",
    "    hourly_summary.loc[h,'no_trades'] = no_trades\n",
    "\n",
    "    hourly_summary.loc[h,'ATT_wins'] = de['time_in_trade'].median()\n",
    "    hourly_summary.loc[h,'ATT_losses'] = db['time_in_trade'].median()\n",
    "\n",
    "\n",
    "for h in hourly_summary.index:\n",
    "    # print(h)\n",
    "    dg = df[pd.to_datetime(df['open_time']).dt.hour == h]\n",
    "    no_trades = len(dg)\n",
    "    hourly_summary.loc[h,'prob_hr']     =  no_trades/hourly_summary['no_trades'].sum()\n",
    "    hourly_summary.loc[h,'EV_hr']       = hourly_summary.loc[h,'prob_hr']*hourly_summary.loc[h,'PnL']\n",
    "\n",
    "\n",
    "\n"
   ]
  },
  {
   "cell_type": "code",
   "execution_count": 429,
   "metadata": {},
   "outputs": [
    {
     "data": {
      "text/html": [
       "<div>\n",
       "<style scoped>\n",
       "    .dataframe tbody tr th:only-of-type {\n",
       "        vertical-align: middle;\n",
       "    }\n",
       "\n",
       "    .dataframe tbody tr th {\n",
       "        vertical-align: top;\n",
       "    }\n",
       "\n",
       "    .dataframe thead th {\n",
       "        text-align: right;\n",
       "    }\n",
       "</style>\n",
       "<table border=\"1\" class=\"dataframe\">\n",
       "  <thead>\n",
       "    <tr style=\"text-align: right;\">\n",
       "      <th></th>\n",
       "      <th>win_rate</th>\n",
       "      <th>PnL</th>\n",
       "      <th>no_trades</th>\n",
       "      <th>ATT_wins</th>\n",
       "      <th>ATT_losses</th>\n",
       "      <th>prob_hr</th>\n",
       "      <th>EV_hr</th>\n",
       "    </tr>\n",
       "  </thead>\n",
       "  <tbody>\n",
       "    <tr>\n",
       "      <th>0</th>\n",
       "      <td>0</td>\n",
       "      <td>0.0</td>\n",
       "      <td>0</td>\n",
       "      <td>NaN</td>\n",
       "      <td>NaN</td>\n",
       "      <td>0.000000</td>\n",
       "      <td>0.000000</td>\n",
       "    </tr>\n",
       "    <tr>\n",
       "      <th>1</th>\n",
       "      <td>0</td>\n",
       "      <td>0.0</td>\n",
       "      <td>0</td>\n",
       "      <td>NaN</td>\n",
       "      <td>NaN</td>\n",
       "      <td>0.000000</td>\n",
       "      <td>0.000000</td>\n",
       "    </tr>\n",
       "    <tr>\n",
       "      <th>2</th>\n",
       "      <td>0</td>\n",
       "      <td>0.0</td>\n",
       "      <td>0</td>\n",
       "      <td>NaN</td>\n",
       "      <td>NaN</td>\n",
       "      <td>0.000000</td>\n",
       "      <td>0.000000</td>\n",
       "    </tr>\n",
       "    <tr>\n",
       "      <th>3</th>\n",
       "      <td>0</td>\n",
       "      <td>0.0</td>\n",
       "      <td>0</td>\n",
       "      <td>NaN</td>\n",
       "      <td>NaN</td>\n",
       "      <td>0.000000</td>\n",
       "      <td>0.000000</td>\n",
       "    </tr>\n",
       "    <tr>\n",
       "      <th>4</th>\n",
       "      <td>0</td>\n",
       "      <td>0.0</td>\n",
       "      <td>0</td>\n",
       "      <td>NaN</td>\n",
       "      <td>NaN</td>\n",
       "      <td>0.000000</td>\n",
       "      <td>0.000000</td>\n",
       "    </tr>\n",
       "    <tr>\n",
       "      <th>5</th>\n",
       "      <td>0</td>\n",
       "      <td>0.0</td>\n",
       "      <td>0</td>\n",
       "      <td>NaN</td>\n",
       "      <td>NaN</td>\n",
       "      <td>0.000000</td>\n",
       "      <td>0.000000</td>\n",
       "    </tr>\n",
       "    <tr>\n",
       "      <th>6</th>\n",
       "      <td>0</td>\n",
       "      <td>0.0</td>\n",
       "      <td>0</td>\n",
       "      <td>NaN</td>\n",
       "      <td>NaN</td>\n",
       "      <td>0.000000</td>\n",
       "      <td>0.000000</td>\n",
       "    </tr>\n",
       "    <tr>\n",
       "      <th>7</th>\n",
       "      <td>0</td>\n",
       "      <td>0.0</td>\n",
       "      <td>0</td>\n",
       "      <td>NaN</td>\n",
       "      <td>NaN</td>\n",
       "      <td>0.000000</td>\n",
       "      <td>0.000000</td>\n",
       "    </tr>\n",
       "    <tr>\n",
       "      <th>8</th>\n",
       "      <td>0</td>\n",
       "      <td>0.0</td>\n",
       "      <td>0</td>\n",
       "      <td>NaN</td>\n",
       "      <td>NaN</td>\n",
       "      <td>0.000000</td>\n",
       "      <td>0.000000</td>\n",
       "    </tr>\n",
       "    <tr>\n",
       "      <th>9</th>\n",
       "      <td>0</td>\n",
       "      <td>0.0</td>\n",
       "      <td>0</td>\n",
       "      <td>NaN</td>\n",
       "      <td>NaN</td>\n",
       "      <td>0.000000</td>\n",
       "      <td>0.000000</td>\n",
       "    </tr>\n",
       "    <tr>\n",
       "      <th>10</th>\n",
       "      <td>0</td>\n",
       "      <td>0.0</td>\n",
       "      <td>0</td>\n",
       "      <td>NaN</td>\n",
       "      <td>NaN</td>\n",
       "      <td>0.000000</td>\n",
       "      <td>0.000000</td>\n",
       "    </tr>\n",
       "    <tr>\n",
       "      <th>11</th>\n",
       "      <td>0</td>\n",
       "      <td>0.0</td>\n",
       "      <td>0</td>\n",
       "      <td>NaN</td>\n",
       "      <td>NaN</td>\n",
       "      <td>0.000000</td>\n",
       "      <td>0.000000</td>\n",
       "    </tr>\n",
       "    <tr>\n",
       "      <th>12</th>\n",
       "      <td>0</td>\n",
       "      <td>0.0</td>\n",
       "      <td>0</td>\n",
       "      <td>NaN</td>\n",
       "      <td>NaN</td>\n",
       "      <td>0.000000</td>\n",
       "      <td>0.000000</td>\n",
       "    </tr>\n",
       "    <tr>\n",
       "      <th>13</th>\n",
       "      <td>0.594203</td>\n",
       "      <td>41.764618</td>\n",
       "      <td>69</td>\n",
       "      <td>8.416667</td>\n",
       "      <td>10.333333</td>\n",
       "      <td>0.456954</td>\n",
       "      <td>19.084494</td>\n",
       "    </tr>\n",
       "    <tr>\n",
       "      <th>14</th>\n",
       "      <td>1.0</td>\n",
       "      <td>16.203521</td>\n",
       "      <td>2</td>\n",
       "      <td>12.458333</td>\n",
       "      <td>NaN</td>\n",
       "      <td>0.013245</td>\n",
       "      <td>0.214616</td>\n",
       "    </tr>\n",
       "    <tr>\n",
       "      <th>15</th>\n",
       "      <td>0.648649</td>\n",
       "      <td>100.214586</td>\n",
       "      <td>37</td>\n",
       "      <td>14.0</td>\n",
       "      <td>6.833333</td>\n",
       "      <td>0.245033</td>\n",
       "      <td>24.555892</td>\n",
       "    </tr>\n",
       "    <tr>\n",
       "      <th>16</th>\n",
       "      <td>1.0</td>\n",
       "      <td>9.275023</td>\n",
       "      <td>3</td>\n",
       "      <td>24.0</td>\n",
       "      <td>NaN</td>\n",
       "      <td>0.019868</td>\n",
       "      <td>0.184272</td>\n",
       "    </tr>\n",
       "    <tr>\n",
       "      <th>17</th>\n",
       "      <td>0</td>\n",
       "      <td>0.0</td>\n",
       "      <td>0</td>\n",
       "      <td>NaN</td>\n",
       "      <td>NaN</td>\n",
       "      <td>0.000000</td>\n",
       "      <td>0.000000</td>\n",
       "    </tr>\n",
       "    <tr>\n",
       "      <th>18</th>\n",
       "      <td>0</td>\n",
       "      <td>0.0</td>\n",
       "      <td>0</td>\n",
       "      <td>NaN</td>\n",
       "      <td>NaN</td>\n",
       "      <td>0.000000</td>\n",
       "      <td>0.000000</td>\n",
       "    </tr>\n",
       "    <tr>\n",
       "      <th>19</th>\n",
       "      <td>0.857143</td>\n",
       "      <td>75.86154</td>\n",
       "      <td>21</td>\n",
       "      <td>22.041667</td>\n",
       "      <td>2.75</td>\n",
       "      <td>0.139073</td>\n",
       "      <td>10.550280</td>\n",
       "    </tr>\n",
       "    <tr>\n",
       "      <th>20</th>\n",
       "      <td>0.333333</td>\n",
       "      <td>-6.524309</td>\n",
       "      <td>3</td>\n",
       "      <td>24.0</td>\n",
       "      <td>4.541667</td>\n",
       "      <td>0.019868</td>\n",
       "      <td>-0.129622</td>\n",
       "    </tr>\n",
       "    <tr>\n",
       "      <th>21</th>\n",
       "      <td>0.571429</td>\n",
       "      <td>8.791412</td>\n",
       "      <td>14</td>\n",
       "      <td>15.916667</td>\n",
       "      <td>17.375</td>\n",
       "      <td>0.092715</td>\n",
       "      <td>0.815098</td>\n",
       "    </tr>\n",
       "    <tr>\n",
       "      <th>22</th>\n",
       "      <td>0.0</td>\n",
       "      <td>-17.938226</td>\n",
       "      <td>2</td>\n",
       "      <td>NaN</td>\n",
       "      <td>12.958333</td>\n",
       "      <td>0.013245</td>\n",
       "      <td>-0.237592</td>\n",
       "    </tr>\n",
       "    <tr>\n",
       "      <th>23</th>\n",
       "      <td>0</td>\n",
       "      <td>0.0</td>\n",
       "      <td>0</td>\n",
       "      <td>NaN</td>\n",
       "      <td>NaN</td>\n",
       "      <td>0.000000</td>\n",
       "      <td>0.000000</td>\n",
       "    </tr>\n",
       "  </tbody>\n",
       "</table>\n",
       "</div>"
      ],
      "text/plain": [
       "    win_rate         PnL no_trades   ATT_wins ATT_losses   prob_hr      EV_hr\n",
       "0          0         0.0         0        NaN        NaN  0.000000   0.000000\n",
       "1          0         0.0         0        NaN        NaN  0.000000   0.000000\n",
       "2          0         0.0         0        NaN        NaN  0.000000   0.000000\n",
       "3          0         0.0         0        NaN        NaN  0.000000   0.000000\n",
       "4          0         0.0         0        NaN        NaN  0.000000   0.000000\n",
       "5          0         0.0         0        NaN        NaN  0.000000   0.000000\n",
       "6          0         0.0         0        NaN        NaN  0.000000   0.000000\n",
       "7          0         0.0         0        NaN        NaN  0.000000   0.000000\n",
       "8          0         0.0         0        NaN        NaN  0.000000   0.000000\n",
       "9          0         0.0         0        NaN        NaN  0.000000   0.000000\n",
       "10         0         0.0         0        NaN        NaN  0.000000   0.000000\n",
       "11         0         0.0         0        NaN        NaN  0.000000   0.000000\n",
       "12         0         0.0         0        NaN        NaN  0.000000   0.000000\n",
       "13  0.594203   41.764618        69   8.416667  10.333333  0.456954  19.084494\n",
       "14       1.0   16.203521         2  12.458333        NaN  0.013245   0.214616\n",
       "15  0.648649  100.214586        37       14.0   6.833333  0.245033  24.555892\n",
       "16       1.0    9.275023         3       24.0        NaN  0.019868   0.184272\n",
       "17         0         0.0         0        NaN        NaN  0.000000   0.000000\n",
       "18         0         0.0         0        NaN        NaN  0.000000   0.000000\n",
       "19  0.857143    75.86154        21  22.041667       2.75  0.139073  10.550280\n",
       "20  0.333333   -6.524309         3       24.0   4.541667  0.019868  -0.129622\n",
       "21  0.571429    8.791412        14  15.916667     17.375  0.092715   0.815098\n",
       "22       0.0  -17.938226         2        NaN  12.958333  0.013245  -0.237592\n",
       "23         0         0.0         0        NaN        NaN  0.000000   0.000000"
      ]
     },
     "execution_count": 429,
     "metadata": {},
     "output_type": "execute_result"
    }
   ],
   "source": [
    "hourly_summary"
   ]
  },
  {
   "cell_type": "code",
   "execution_count": 430,
   "metadata": {},
   "outputs": [
    {
     "name": "stdout",
     "output_type": "stream",
     "text": [
      "8\n"
     ]
    },
    {
     "data": {
      "text/plain": [
       "(array([1., 0., 1., 0., 0., 1., 2., 0., 0., 2., 0., 0., 0., 0., 0., 0., 0.,\n",
       "        0., 0., 1.]),\n",
       " array([ 0.5       ,  2.86666667,  5.23333333,  7.6       ,  9.96666667,\n",
       "        12.33333333, 14.7       , 17.06666667, 19.43333333, 21.8       ,\n",
       "        24.16666667, 26.53333333, 28.9       , 31.26666667, 33.63333333,\n",
       "        36.        , 38.36666667, 40.73333333, 43.1       , 45.46666667,\n",
       "        47.83333333]),\n",
       " <BarContainer object of 20 artists>)"
      ]
     },
     "execution_count": 430,
     "metadata": {},
     "output_type": "execute_result"
    },
    {
     "data": {
      "image/png": "[encoded data removed]",
      "text/plain": [
       "<Figure size 640x480 with 1 Axes>"
      ]
     },
     "metadata": {},
     "output_type": "display_data"
    }
   ],
   "source": [
    "hour = 21\n",
    "dh = df[pd.to_datetime(df['open_time']).dt.hour == hour]\n",
    "dh = dh[dh['PnL']>0]\n",
    "print(len(dh))\n",
    "plt.hist(dh['time_in_trade'],bins = 20)"
   ]
  },
  {
   "cell_type": "code",
   "execution_count": 431,
   "metadata": {},
   "outputs": [
    {
     "data": {
      "text/plain": [
       "<BarContainer object of 24 artists>"
      ]
     },
     "execution_count": 431,
     "metadata": {},
     "output_type": "execute_result"
    },
    {
     "data": {
      "image/png": "[encoded data removed]",
      "text/plain": [
       "<Figure size 640x480 with 1 Axes>"
      ]
     },
     "metadata": {},
     "output_type": "display_data"
    }
   ],
   "source": [
    "plt.bar(hourly_summary.index,hourly_summary['EV_hr'])"
   ]
  },
  {
   "cell_type": "code",
   "execution_count": 432,
   "metadata": {},
   "outputs": [
    {
     "data": {
      "text/plain": [
       "47"
      ]
     },
     "execution_count": 432,
     "metadata": {},
     "output_type": "execute_result"
    }
   ],
   "source": [
    "int(df['time_in_trade'].max())"
   ]
  },
  {
   "cell_type": "code",
   "execution_count": 433,
   "metadata": {},
   "outputs": [],
   "source": [
    "\n",
    "time_in_trade_summary = pd.DataFrame(index = [i for i in range(int(df['time_in_trade'].max()+1)) ], columns = ['win_rate','PnL','no_trades','prob','EV(t)'])\n",
    "\n",
    "for h in time_in_trade_summary.index:\n",
    "    # print(h)\n",
    "    dg = df[df['time_in_trade'].astype(int) == h]\n",
    "    # print(dg)\n",
    "\n",
    "    no_trades = len(dg)\n",
    "    wins = len(dg[dg['PnL']>0])\n",
    "    PnL = dg['PnL'].sum()\n",
    "\n",
    "    if no_trades == 0:\n",
    "        time_in_trade_summary.loc[h,'win_rate'] = 0\n",
    "    else:\n",
    "        time_in_trade_summary.loc[h,'win_rate'] = wins/no_trades\n",
    "    \n",
    "    time_in_trade_summary.loc[h,'PnL']     = PnL\n",
    "    time_in_trade_summary.loc[h,'no_trades'] = no_trades\n",
    "    \n",
    "\n",
    "for h in time_in_trade_summary.index:\n",
    "    no_trades = time_in_trade_summary.loc[h,'no_trades']\n",
    "    time_in_trade_summary.loc[h,'prob'] = no_trades/time_in_trade_summary['no_trades'].sum()\n",
    "\n",
    "for h in time_in_trade_summary.index:\n",
    "    dg = time_in_trade_summary[time_in_trade_summary.index >= h]\n",
    "    time_in_trade_summary.loc[h,'EV(t)'] = (dg['prob']*dg['PnL']).sum()"
   ]
  },
  {
   "cell_type": "code",
   "execution_count": 434,
   "metadata": {},
   "outputs": [
    {
     "data": {
      "text/html": [
       "<div>\n",
       "<style scoped>\n",
       "    .dataframe tbody tr th:only-of-type {\n",
       "        vertical-align: middle;\n",
       "    }\n",
       "\n",
       "    .dataframe tbody tr th {\n",
       "        vertical-align: top;\n",
       "    }\n",
       "\n",
       "    .dataframe thead th {\n",
       "        text-align: right;\n",
       "    }\n",
       "</style>\n",
       "<table border=\"1\" class=\"dataframe\">\n",
       "  <thead>\n",
       "    <tr style=\"text-align: right;\">\n",
       "      <th></th>\n",
       "      <th>win_rate</th>\n",
       "      <th>PnL</th>\n",
       "      <th>no_trades</th>\n",
       "      <th>prob</th>\n",
       "      <th>EV(t)</th>\n",
       "    </tr>\n",
       "  </thead>\n",
       "  <tbody>\n",
       "    <tr>\n",
       "      <th>0</th>\n",
       "      <td>0.666667</td>\n",
       "      <td>11.065954</td>\n",
       "      <td>12</td>\n",
       "      <td>0.07947</td>\n",
       "      <td>11.943108</td>\n",
       "    </tr>\n",
       "    <tr>\n",
       "      <th>1</th>\n",
       "      <td>0.625</td>\n",
       "      <td>10.46315</td>\n",
       "      <td>8</td>\n",
       "      <td>0.05298</td>\n",
       "      <td>11.063694</td>\n",
       "    </tr>\n",
       "    <tr>\n",
       "      <th>2</th>\n",
       "      <td>0.5</td>\n",
       "      <td>-1.083784</td>\n",
       "      <td>4</td>\n",
       "      <td>0.02649</td>\n",
       "      <td>10.509355</td>\n",
       "    </tr>\n",
       "    <tr>\n",
       "      <th>3</th>\n",
       "      <td>0</td>\n",
       "      <td>0.0</td>\n",
       "      <td>0</td>\n",
       "      <td>0.0</td>\n",
       "      <td>10.538064</td>\n",
       "    </tr>\n",
       "    <tr>\n",
       "      <th>4</th>\n",
       "      <td>0.75</td>\n",
       "      <td>10.271439</td>\n",
       "      <td>4</td>\n",
       "      <td>0.02649</td>\n",
       "      <td>10.538064</td>\n",
       "    </tr>\n",
       "    <tr>\n",
       "      <th>5</th>\n",
       "      <td>0.5</td>\n",
       "      <td>17.945019</td>\n",
       "      <td>10</td>\n",
       "      <td>0.066225</td>\n",
       "      <td>10.265973</td>\n",
       "    </tr>\n",
       "    <tr>\n",
       "      <th>6</th>\n",
       "      <td>0.5</td>\n",
       "      <td>-12.023549</td>\n",
       "      <td>6</td>\n",
       "      <td>0.039735</td>\n",
       "      <td>9.077562</td>\n",
       "    </tr>\n",
       "    <tr>\n",
       "      <th>7</th>\n",
       "      <td>0.416667</td>\n",
       "      <td>-9.059998</td>\n",
       "      <td>12</td>\n",
       "      <td>0.07947</td>\n",
       "      <td>9.555318</td>\n",
       "    </tr>\n",
       "    <tr>\n",
       "      <th>8</th>\n",
       "      <td>0.6</td>\n",
       "      <td>-7.566935</td>\n",
       "      <td>5</td>\n",
       "      <td>0.033113</td>\n",
       "      <td>10.275318</td>\n",
       "    </tr>\n",
       "    <tr>\n",
       "      <th>9</th>\n",
       "      <td>0.5</td>\n",
       "      <td>1.153094</td>\n",
       "      <td>2</td>\n",
       "      <td>0.013245</td>\n",
       "      <td>10.525879</td>\n",
       "    </tr>\n",
       "    <tr>\n",
       "      <th>10</th>\n",
       "      <td>0.5</td>\n",
       "      <td>-4.01506</td>\n",
       "      <td>4</td>\n",
       "      <td>0.02649</td>\n",
       "      <td>10.510606</td>\n",
       "    </tr>\n",
       "    <tr>\n",
       "      <th>11</th>\n",
       "      <td>0.75</td>\n",
       "      <td>10.317923</td>\n",
       "      <td>4</td>\n",
       "      <td>0.02649</td>\n",
       "      <td>10.616965</td>\n",
       "    </tr>\n",
       "    <tr>\n",
       "      <th>12</th>\n",
       "      <td>0.5</td>\n",
       "      <td>-2.232805</td>\n",
       "      <td>2</td>\n",
       "      <td>0.013245</td>\n",
       "      <td>10.343643</td>\n",
       "    </tr>\n",
       "    <tr>\n",
       "      <th>13</th>\n",
       "      <td>1.0</td>\n",
       "      <td>17.922811</td>\n",
       "      <td>3</td>\n",
       "      <td>0.019868</td>\n",
       "      <td>10.373217</td>\n",
       "    </tr>\n",
       "    <tr>\n",
       "      <th>14</th>\n",
       "      <td>1.0</td>\n",
       "      <td>23.743049</td>\n",
       "      <td>4</td>\n",
       "      <td>0.02649</td>\n",
       "      <td>10.017134</td>\n",
       "    </tr>\n",
       "    <tr>\n",
       "      <th>15</th>\n",
       "      <td>1.0</td>\n",
       "      <td>9.689739</td>\n",
       "      <td>1</td>\n",
       "      <td>0.006623</td>\n",
       "      <td>9.388179</td>\n",
       "    </tr>\n",
       "    <tr>\n",
       "      <th>16</th>\n",
       "      <td>0.8</td>\n",
       "      <td>31.178462</td>\n",
       "      <td>5</td>\n",
       "      <td>0.033113</td>\n",
       "      <td>9.324009</td>\n",
       "    </tr>\n",
       "    <tr>\n",
       "      <th>17</th>\n",
       "      <td>0.0</td>\n",
       "      <td>-7.229635</td>\n",
       "      <td>1</td>\n",
       "      <td>0.006623</td>\n",
       "      <td>8.291609</td>\n",
       "    </tr>\n",
       "    <tr>\n",
       "      <th>18</th>\n",
       "      <td>1.0</td>\n",
       "      <td>50.857834</td>\n",
       "      <td>6</td>\n",
       "      <td>0.039735</td>\n",
       "      <td>8.339488</td>\n",
       "    </tr>\n",
       "    <tr>\n",
       "      <th>19</th>\n",
       "      <td>0</td>\n",
       "      <td>0.0</td>\n",
       "      <td>0</td>\n",
       "      <td>0.0</td>\n",
       "      <td>6.318647</td>\n",
       "    </tr>\n",
       "  </tbody>\n",
       "</table>\n",
       "</div>"
      ],
      "text/plain": [
       "    win_rate        PnL no_trades      prob      EV(t)\n",
       "0   0.666667  11.065954        12   0.07947  11.943108\n",
       "1      0.625   10.46315         8   0.05298  11.063694\n",
       "2        0.5  -1.083784         4   0.02649  10.509355\n",
       "3          0        0.0         0       0.0  10.538064\n",
       "4       0.75  10.271439         4   0.02649  10.538064\n",
       "5        0.5  17.945019        10  0.066225  10.265973\n",
       "6        0.5 -12.023549         6  0.039735   9.077562\n",
       "7   0.416667  -9.059998        12   0.07947   9.555318\n",
       "8        0.6  -7.566935         5  0.033113  10.275318\n",
       "9        0.5   1.153094         2  0.013245  10.525879\n",
       "10       0.5   -4.01506         4   0.02649  10.510606\n",
       "11      0.75  10.317923         4   0.02649  10.616965\n",
       "12       0.5  -2.232805         2  0.013245  10.343643\n",
       "13       1.0  17.922811         3  0.019868  10.373217\n",
       "14       1.0  23.743049         4   0.02649  10.017134\n",
       "15       1.0   9.689739         1  0.006623   9.388179\n",
       "16       0.8  31.178462         5  0.033113   9.324009\n",
       "17       0.0  -7.229635         1  0.006623   8.291609\n",
       "18       1.0  50.857834         6  0.039735   8.339488\n",
       "19         0        0.0         0       0.0   6.318647"
      ]
     },
     "execution_count": 434,
     "metadata": {},
     "output_type": "execute_result"
    }
   ],
   "source": [
    "t = time_in_trade_summary[time_in_trade_summary['no_trades']!= 0]\n",
    "time_in_trade_summary.head(20)"
   ]
  },
  {
   "cell_type": "code",
   "execution_count": 435,
   "metadata": {},
   "outputs": [
    {
     "data": {
      "image/png": "[encoded data removed]",
      "text/plain": [
       "<Figure size 640x480 with 2 Axes>"
      ]
     },
     "metadata": {},
     "output_type": "display_data"
    }
   ],
   "source": [
    "fig = plt.scatter(t.index,t['PnL'],c = t['no_trades'])\n",
    "colorbar = plt.colorbar(fig)\n",
    "colorbar.set_label('Color Scale')"
   ]
  },
  {
   "cell_type": "code",
   "execution_count": 436,
   "metadata": {},
   "outputs": [
    {
     "data": {
      "text/plain": [
       "<BarContainer object of 48 artists>"
      ]
     },
     "execution_count": 436,
     "metadata": {},
     "output_type": "execute_result"
    },
    {
     "data": {
      "image/png": "[encoded data removed]",
      "text/plain": [
       "<Figure size 640x480 with 1 Axes>"
      ]
     },
     "metadata": {},
     "output_type": "display_data"
    }
   ],
   "source": [
    "plt.bar(time_in_trade_summary.head(50).index,time_in_trade_summary['EV(t)'].head(50))"
   ]
  },
  {
   "cell_type": "code",
   "execution_count": 437,
   "metadata": {},
   "outputs": [
    {
     "data": {
      "image/png": "[encoded data removed]",
      "text/plain": [
       "<Figure size 640x480 with 2 Axes>"
      ]
     },
     "metadata": {},
     "output_type": "display_data"
    }
   ],
   "source": [
    "f =plt.scatter(pd.to_datetime(df['open_time']).dt.hour, df['time_in_trade'], s = 10,c = df['PnL'], marker= 'o')\n",
    "colorbar = plt.colorbar(f)\n",
    "colorbar.set_label('Color Scale')"
   ]
  },
  {
   "cell_type": "code",
   "execution_count": 438,
   "metadata": {},
   "outputs": [
    {
     "data": {
      "text/plain": [
       "[<matplotlib.lines.Line2D at 0x12f705520>]"
      ]
     },
     "execution_count": 438,
     "metadata": {},
     "output_type": "execute_result"
    },
    {
     "data": {
      "image/png": "[encoded data removed]",
      "text/plain": [
       "<Figure size 640x480 with 1 Axes>"
      ]
     },
     "metadata": {},
     "output_type": "display_data"
    }
   ],
   "source": [
    "plt.plot(df['open_time'],df['account_balance(t)'])"
   ]
  }
 ],
 "metadata": {
  "kernelspec": {
   "display_name": "venv",
   "language": "python",
   "name": "python3"
  },
  "language_info": {
   "codemirror_mode": {
    "name": "ipython",
    "version": 3
   },
   "file_extension": ".py",
   "mimetype": "text/x-python",
   "name": "python",
   "nbconvert_exporter": "python",
   "pygments_lexer": "ipython3",
   "version": "3.12.3"
  }
 },
 "nbformat": 4,
 "nbformat_minor": 2
}
