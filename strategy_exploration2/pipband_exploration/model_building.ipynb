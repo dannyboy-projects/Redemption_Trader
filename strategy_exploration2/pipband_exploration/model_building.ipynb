{
 "cells": [
  {
   "cell_type": "code",
   "execution_count": 819,
   "metadata": {},
   "outputs": [],
   "source": [
    "import pandas as pd\n",
    "import matplotlib.pyplot as plt\n",
    "from datetime import datetime\n",
    "import matplotlib.pyplot as plt\n",
    "\n",
    "df = pd.read_csv('./data/tradelog_IS.csv', index_col = 0)"
   ]
  },
  {
   "cell_type": "code",
   "execution_count": 820,
   "metadata": {},
   "outputs": [],
   "source": [
    "dg = pd.read_csv('./data/aux_data_IS.csv',index_col=0)"
   ]
  },
  {
   "cell_type": "code",
   "execution_count": 821,
   "metadata": {},
   "outputs": [],
   "source": [
    "df = pd.merge(df,dg,left_index=True, right_index=True)\n",
    "df = df.dropna()"
   ]
  },
  {
   "cell_type": "code",
   "execution_count": 822,
   "metadata": {},
   "outputs": [],
   "source": [
    "#create W/L labels, explantory variables\n",
    "df['target'] = (df['PnL'] > 0).astype(int)\n",
    "# # 1 hour\n",
    "# df['momentum'] = df['open_price'].rolling(window = 12).mean() - df['open_price'].rolling(window = 36).mean()\n",
    "# df['shortterm_momentum'] = df['open_price'].rolling(window = 3).mean() - df['open_price'].rolling(window = 12).mean()\n",
    "# df['longterm_momentum'] = df['open_price'].rolling(window = 76).mean() - df['open_price'].rolling(window = 288).mean()\n",
    "# df['extralongterm_momentum'] = df['open_price'].rolling(window = 288).mean() - df['open_price'].rolling(window = 1440).mean()\n",
    "\n",
    "# df['percent2MA'] = (df['open_price'] - df['open_price'].rolling(window = 288).mean())/df['open_price'].rolling(window = 288).mean()\n",
    "df['open_time_fmt'] = pd.to_datetime(df['open_time']).dt.hour.astype(int) *12 + pd.to_datetime(df['open_time']).dt.minute.astype(int)\n",
    "# df['open_time_fmt'] = pd.to_datetime(df['open_time']).dt.strftime(\"%H:%M:%S\")"
   ]
  },
  {
   "cell_type": "code",
   "execution_count": 823,
   "metadata": {},
   "outputs": [
    {
     "data": {
      "text/plain": [
       "0.6895647614053487"
      ]
     },
     "execution_count": 823,
     "metadata": {},
     "output_type": "execute_result"
    }
   ],
   "source": [
    "# most basic decision tree\n",
    "from sklearn import tree\n",
    "from sklearn.model_selection import train_test_split\n",
    "from sklearn.metrics import accuracy_score\n",
    "\n",
    "input = df[['extralongterm_momentum','longterm_momentum','dir','parkinson_volatility']]\n",
    "\n",
    "data, x_test, target, y_test = train_test_split( input,df['target'], test_size=0.50,random_state=42)\n",
    "\n",
    "clf = tree.DecisionTreeClassifier(criterion = 'gini',max_depth = 15)\n",
    "clf = clf.fit(data, target)\n",
    "y_predict = clf.predict(x_test)\n",
    "accuracy_score(y_predict,y_test)"
   ]
  },
  {
   "cell_type": "code",
   "execution_count": 824,
   "metadata": {},
   "outputs": [
    {
     "data": {
      "text/plain": [
       "0.7577346617724174"
      ]
     },
     "execution_count": 824,
     "metadata": {},
     "output_type": "execute_result"
    }
   ],
   "source": [
    "from sklearn.ensemble import RandomForestClassifier\n",
    "rf = RandomForestClassifier(n_estimators=100,max_depth=15, random_state=0)\n",
    "rf.fit(data, target)\n",
    "y_predict = rf.predict(x_test)\n",
    "accuracy_score(y_predict,y_test)"
   ]
  },
  {
   "cell_type": "code",
   "execution_count": 837,
   "metadata": {},
   "outputs": [],
   "source": [
    "from sklearn.neural_network import MLPClassifier\n",
    "\n",
    "clf = MLPClassifier(random_state=4, max_iter=3000).fit(data, target)\n",
    "# y_predict = clf.predict_proba(x_test)\n",
    "# accuracy_score(y_predict,y_test)\n",
    "# clf.score(x_test,y_test)\n"
   ]
  },
  {
   "cell_type": "code",
   "execution_count": null,
   "metadata": {},
   "outputs": [],
   "source": []
  },
  {
   "cell_type": "code",
   "execution_count": 838,
   "metadata": {},
   "outputs": [
    {
     "data": {
      "text/plain": [
       "0.5794441531200839"
      ]
     },
     "execution_count": 838,
     "metadata": {},
     "output_type": "execute_result"
    }
   ],
   "source": [
    "y_predict = clf.predict(x_test)\n",
    "accuracy_score(y_predict,y_test)\n",
    "# y_predict"
   ]
  },
  {
   "cell_type": "code",
   "execution_count": 827,
   "metadata": {},
   "outputs": [],
   "source": [
    "# plt.scatter(df['shortterm_momentum'],df['parkinson_volatility'], c = df['target'])"
   ]
  },
  {
   "cell_type": "code",
   "execution_count": null,
   "metadata": {},
   "outputs": [],
   "source": []
  },
  {
   "cell_type": "code",
   "execution_count": 828,
   "metadata": {},
   "outputs": [
    {
     "data": {
      "text/plain": [
       "(array([ 10.,  77.,  94., 169., 257., 272., 239., 320., 221., 245., 256.,\n",
       "        176., 180., 154.,  97.,  86., 109., 107.,  78., 103.,  97.,  35.,\n",
       "         18.,  77.,  14.,  43.,  16.,  62.,  14.,  34.,  23.,   0.,  40.,\n",
       "          0.,   4.,   3.,  23.,   0.,  13.,  16.,   0.,   0.,   1.,   0.,\n",
       "         18.,   0.,   0.,   0.,   6.,   7.]),\n",
       " array([0.00166802, 0.00231744, 0.00296686, 0.00361628, 0.00426569,\n",
       "        0.00491511, 0.00556453, 0.00621395, 0.00686337, 0.00751279,\n",
       "        0.0081622 , 0.00881162, 0.00946104, 0.01011046, 0.01075988,\n",
       "        0.01140929, 0.01205871, 0.01270813, 0.01335755, 0.01400697,\n",
       "        0.01465638, 0.0153058 , 0.01595522, 0.01660464, 0.01725406,\n",
       "        0.01790348, 0.01855289, 0.01920231, 0.01985173, 0.02050115,\n",
       "        0.02115057, 0.02179998, 0.0224494 , 0.02309882, 0.02374824,\n",
       "        0.02439766, 0.02504707, 0.02569649, 0.02634591, 0.02699533,\n",
       "        0.02764475, 0.02829417, 0.02894358, 0.029593  , 0.03024242,\n",
       "        0.03089184, 0.03154126, 0.03219067, 0.03284009, 0.03348951,\n",
       "        0.03413893]),\n",
       " <BarContainer object of 50 artists>)"
      ]
     },
     "execution_count": 828,
     "metadata": {},
     "output_type": "execute_result"
    },
    {
     "data": {
      "image/png": "[encoded data removed]",
      "text/plain": [
       "<Figure size 640x480 with 1 Axes>"
      ]
     },
     "metadata": {},
     "output_type": "display_data"
    }
   ],
   "source": [
    "import matplotlib.pyplot as plt\n",
    "plt.hist(df['parkinson_volatility'],bins = 50)"
   ]
  },
  {
   "cell_type": "code",
   "execution_count": 829,
   "metadata": {},
   "outputs": [
    {
     "data": {
      "text/plain": [
       "0.5904562139486104"
      ]
     },
     "execution_count": 829,
     "metadata": {},
     "output_type": "execute_result"
    }
   ],
   "source": [
    "y_predict = clf.predict(x_test)\n",
    "accuracy_score(y_predict,y_test)"
   ]
  },
  {
   "cell_type": "code",
   "execution_count": 830,
   "metadata": {},
   "outputs": [
    {
     "data": {
      "text/plain": [
       "['DT.joblib']"
      ]
     },
     "execution_count": 830,
     "metadata": {},
     "output_type": "execute_result"
    }
   ],
   "source": [
    "# tree.plot_tree(clf)\n",
    "import joblib \n",
    "joblib.dump(clf,'DT.joblib')"
   ]
  },
  {
   "cell_type": "code",
   "execution_count": 831,
   "metadata": {},
   "outputs": [],
   "source": [
    "# fig = plt.figure(figsize=(25,20))\n",
    "# _ = tree.plot_tree(clf, \n",
    "#                    feature_names=input.columns,  \n",
    "#                    filled=True)"
   ]
  }
 ],
 "metadata": {
  "kernelspec": {
   "display_name": "venv",
   "language": "python",
   "name": "python3"
  },
  "language_info": {
   "codemirror_mode": {
    "name": "ipython",
    "version": 3
   },
   "file_extension": ".py",
   "mimetype": "text/x-python",
   "name": "python",
   "nbconvert_exporter": "python",
   "pygments_lexer": "ipython3",
   "version": "3.12.3"
  }
 },
 "nbformat": 4,
 "nbformat_minor": 2
}
